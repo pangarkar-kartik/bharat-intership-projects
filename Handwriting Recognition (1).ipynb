{
 "cells": [
  {
   "cell_type": "markdown",
   "id": "27499538",
   "metadata": {},
   "source": [
    "## Handwriting Recognition"
   ]
  },
  {
   "cell_type": "markdown",
   "id": "5fdff351",
   "metadata": {},
   "source": [
    "### Importing Libraries"
   ]
  },
  {
   "cell_type": "code",
   "execution_count": 14,
   "id": "cbafbffd",
   "metadata": {},
   "outputs": [],
   "source": [
    "import os\n",
    "import cv2  #for computer vision like load images, process images.\n",
    "import matplotlib.pyplot as plt #for graphs and visualization.\n",
    "import numpy as np #for working with numpy arrays.\n",
    "import pandas as pd\n",
    "import tensorflow as tf #for machine learning part."
   ]
  },
  {
   "cell_type": "code",
   "execution_count": 15,
   "id": "c47b52ec",
   "metadata": {},
   "outputs": [],
   "source": [
    "mnist = tf.keras.datasets.mnist #loading data set directly from tensorflow. "
   ]
  },
  {
   "cell_type": "code",
   "execution_count": 16,
   "id": "f061418e",
   "metadata": {},
   "outputs": [],
   "source": [
    "(x_train, y_train),(x_test, y_test) = mnist.load_data()"
   ]
  },
  {
   "cell_type": "code",
   "execution_count": 17,
   "id": "cf2ca8be",
   "metadata": {},
   "outputs": [],
   "source": [
    "x_train = tf.keras.utils.normalize(x_train, axis = 1)\n",
    "x_test = tf.keras.utils.normalize(x_test, axis = 1)"
   ]
  },
  {
   "cell_type": "markdown",
   "id": "7b75d0b5",
   "metadata": {},
   "source": [
    "### Making model "
   ]
  },
  {
   "cell_type": "code",
   "execution_count": 18,
   "id": "6dd3e4cd",
   "metadata": {},
   "outputs": [],
   "source": [
    "model = tf.keras.models.Sequential()\n",
    "model.add(tf.keras.layers.Flatten(input_shape=(28,28))) #flattern layer did all the elements in line here it will make line of\n",
    "                                                            # 28*28 =784 elements \n",
    "model.add(tf.keras.layers.Dense(128, activation = 'relu')) #dens layer - connect each neuron of each layer with other neuron of \n",
    "                                                    #other layer\n",
    "model.add(tf.keras.layers.Dense(128, activation = 'relu'))\n",
    "model.add(tf.keras.layers.Dense(10, activation = 'softmax')) #This is our out layer. soft max make sure that all 10 neuron add \n",
    "                                                            #to one.it will give probablity for each digit to be the right answer\n",
    "                                                            #we will get all values in between 0 to 1.\n",
    "model.compile(optimizer = 'adam', loss='sparse_categorical_crossentropy', metrics =['accuracy'])\n"
   ]
  },
  {
   "cell_type": "code",
   "execution_count": 19,
   "id": "7fa270db",
   "metadata": {},
   "outputs": [
    {
     "name": "stdout",
     "output_type": "stream",
     "text": [
      "Epoch 1/3\n",
      "1875/1875 [==============================] - 3s 1ms/step - loss: 0.2662 - accuracy: 0.9229\n",
      "Epoch 2/3\n",
      "1875/1875 [==============================] - 2s 1ms/step - loss: 0.1070 - accuracy: 0.9675\n",
      "Epoch 3/3\n",
      "1875/1875 [==============================] - 2s 1ms/step - loss: 0.0761 - accuracy: 0.9758\n"
     ]
    },
    {
     "data": {
      "text/plain": [
       "<keras.callbacks.History at 0x1d21da96f70>"
      ]
     },
     "execution_count": 19,
     "metadata": {},
     "output_type": "execute_result"
    }
   ],
   "source": [
    "# Now we will fit the model\n",
    "model.fit(x_train, y_train, epochs = 3)\n"
   ]
  },
  {
   "cell_type": "code",
   "execution_count": 21,
   "id": "f5dad936",
   "metadata": {},
   "outputs": [
    {
     "name": "stderr",
     "output_type": "stream",
     "text": [
      "WARNING:absl:Found untraced functions such as _update_step_xla while saving (showing 1 of 1). These functions will not be directly callable after loading.\n"
     ]
    },
    {
     "name": "stdout",
     "output_type": "stream",
     "text": [
      "INFO:tensorflow:Assets written to: handwritten.model\\assets\n"
     ]
    },
    {
     "name": "stderr",
     "output_type": "stream",
     "text": [
      "INFO:tensorflow:Assets written to: handwritten.model\\assets\n"
     ]
    }
   ],
   "source": [
    "model.save('handwritten.model')"
   ]
  },
  {
   "cell_type": "markdown",
   "id": "1b0ba121",
   "metadata": {},
   "source": [
    "### Loading the Model"
   ]
  },
  {
   "cell_type": "code",
   "execution_count": 22,
   "id": "03530c08",
   "metadata": {},
   "outputs": [],
   "source": [
    "#lets load the model \n",
    "model = tf.keras.models.load_model('handwritten.model')"
   ]
  },
  {
   "cell_type": "markdown",
   "id": "3b5cd41f",
   "metadata": {},
   "source": [
    "### Applying the model on testing data"
   ]
  },
  {
   "cell_type": "code",
   "execution_count": 23,
   "id": "2e70874f",
   "metadata": {},
   "outputs": [
    {
     "name": "stdout",
     "output_type": "stream",
     "text": [
      "313/313 [==============================] - 0s 766us/step - loss: 0.0913 - accuracy: 0.9731\n",
      "0.09129396080970764\n",
      "0.9731000065803528\n"
     ]
    }
   ],
   "source": [
    "#Now lets apply model on testing data.\n",
    "\n",
    "loss, accuracy = model.evaluate(x_test, y_test)\n",
    "print(loss)\n",
    "print(accuracy)\n"
   ]
  },
  {
   "cell_type": "code",
   "execution_count": null,
   "id": "0c8e0790",
   "metadata": {},
   "outputs": [],
   "source": [
    "image_number = 1\n",
    "\n",
    "while os.path.isfile(f\"Digits/Digit{image_number}.png\"):\n",
    "    try:\n",
    "        img = cv2.imread(f\"Digits/Digit{image_number}.png\")[:,:,0]\n",
    "        img = np.invert(np.array([img]))\n",
    "        prediction = model.predict(img)\n",
    "        print(f\"This digit is probably a {np.argmax(prediction)}\")\n",
    "        plt.imshow(img[0], cmap=plt.cm.binary)\n",
    "        plt.show()\n",
    "    except Exception as e:\n",
    "        print(f\"Error: {str(e)}\")\n",
    "    \n",
    "    image_number += 1"
   ]
  }
 ],
 "metadata": {
  "kernelspec": {
   "display_name": "Python 3 (ipykernel)",
   "language": "python",
   "name": "python3"
  },
  "language_info": {
   "codemirror_mode": {
    "name": "ipython",
    "version": 3
   },
   "file_extension": ".py",
   "mimetype": "text/x-python",
   "name": "python",
   "nbconvert_exporter": "python",
   "pygments_lexer": "ipython3",
   "version": "3.9.12"
  }
 },
 "nbformat": 4,
 "nbformat_minor": 5
}
